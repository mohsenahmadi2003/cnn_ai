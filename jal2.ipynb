{
  "nbformat": 4,
  "nbformat_minor": 0,
  "metadata": {
    "colab": {
      "provenance": [],
      "authorship_tag": "ABX9TyNdE6GhQULCD+WeLyOo1uMw",
      "include_colab_link": true
    },
    "kernelspec": {
      "name": "python3",
      "display_name": "Python 3"
    },
    "language_info": {
      "name": "python"
    }
  },
  "cells": [
    {
      "cell_type": "markdown",
      "metadata": {
        "id": "view-in-github",
        "colab_type": "text"
      },
      "source": [
        "<a href=\"https://colab.research.google.com/github/mohsenahmadi2003/cnn_ai/blob/main/jal2.ipynb\" target=\"_parent\"><img src=\"https://colab.research.google.com/assets/colab-badge.svg\" alt=\"Open In Colab\"/></a>"
      ]
    },
    {
      "cell_type": "code",
      "execution_count": null,
      "metadata": {
        "colab": {
          "base_uri": "https://localhost:8080/",
          "height": 1000
        },
        "id": "AsIU3qOOmla4",
        "outputId": "9e615962-541e-4931-a2e0-3541626b087d"
      },
      "outputs": [
        {
          "output_type": "stream",
          "name": "stdout",
          "text": [
            "Epoch = 0 \t\t\t Train Loss = 0.8080105185508728   \t\t\t Train Accuracy = 0.24799999594688416 \t\t\t\t\t Validation Accuracy = 0.06700000166893005\n",
            "Epoch = 1 \t\t\t Train Loss = 0.7887319326400757   \t\t\t Train Accuracy = 0.25999999046325684 \t\t\t\t\t Validation Accuracy = 0.0689999982714653\n",
            "Epoch = 2 \t\t\t Train Loss = 0.7705509066581726   \t\t\t Train Accuracy = 0.2709999978542328 \t\t\t\t\t Validation Accuracy = 0.0729999989271164\n",
            "Epoch = 3 \t\t\t Train Loss = 0.7529400587081909   \t\t\t Train Accuracy = 0.2840000092983246 \t\t\t\t\t Validation Accuracy = 0.07800000160932541\n",
            "Epoch = 4 \t\t\t Train Loss = 0.7357276678085327   \t\t\t Train Accuracy = 0.296999990940094 \t\t\t\t\t Validation Accuracy = 0.08100000023841858\n",
            "Epoch = 5 \t\t\t Train Loss = 0.7188675999641418   \t\t\t Train Accuracy = 0.31299999356269836 \t\t\t\t\t Validation Accuracy = 0.08299999684095383\n",
            "Epoch = 6 \t\t\t Train Loss = 0.7023239135742188   \t\t\t Train Accuracy = 0.3330000042915344 \t\t\t\t\t Validation Accuracy = 0.0860000029206276\n",
            "Epoch = 7 \t\t\t Train Loss = 0.6860847473144531   \t\t\t Train Accuracy = 0.3449999988079071 \t\t\t\t\t Validation Accuracy = 0.09300000220537186\n",
            "Epoch = 8 \t\t\t Train Loss = 0.6701564788818359   \t\t\t Train Accuracy = 0.36500000953674316 \t\t\t\t\t Validation Accuracy = 0.10000000149011612\n",
            "Epoch = 9 \t\t\t Train Loss = 0.6545603275299072   \t\t\t Train Accuracy = 0.38199999928474426 \t\t\t\t\t Validation Accuracy = 0.10899999737739563\n",
            "Epoch = 10 \t\t\t Train Loss = 0.6393005847930908   \t\t\t Train Accuracy = 0.39899998903274536 \t\t\t\t\t Validation Accuracy = 0.11500000208616257\n",
            "Epoch = 11 \t\t\t Train Loss = 0.624398410320282   \t\t\t Train Accuracy = 0.4180000126361847 \t\t\t\t\t Validation Accuracy = 0.11800000071525574\n",
            "Epoch = 12 \t\t\t Train Loss = 0.6098562479019165   \t\t\t Train Accuracy = 0.43299999833106995 \t\t\t\t\t Validation Accuracy = 0.12200000137090683\n",
            "Epoch = 13 \t\t\t Train Loss = 0.5957170724868774   \t\t\t Train Accuracy = 0.44999998807907104 \t\t\t\t\t Validation Accuracy = 0.1289999932050705\n",
            "Epoch = 14 \t\t\t Train Loss = 0.5820156931877136   \t\t\t Train Accuracy = 0.4790000021457672 \t\t\t\t\t Validation Accuracy = 0.13300000131130219\n",
            "Epoch = 15 \t\t\t Train Loss = 0.5687975883483887   \t\t\t Train Accuracy = 0.49900001287460327 \t\t\t\t\t Validation Accuracy = 0.13500000536441803\n",
            "Epoch = 16 \t\t\t Train Loss = 0.55605548620224   \t\t\t Train Accuracy = 0.5199999809265137 \t\t\t\t\t Validation Accuracy = 0.13699999451637268\n",
            "Epoch = 17 \t\t\t Train Loss = 0.5438010096549988   \t\t\t Train Accuracy = 0.5329999923706055 \t\t\t\t\t Validation Accuracy = 0.14100000262260437\n",
            "Epoch = 18 \t\t\t Train Loss = 0.5320776700973511   \t\t\t Train Accuracy = 0.5490000247955322 \t\t\t\t\t Validation Accuracy = 0.1420000046491623\n",
            "Epoch = 19 \t\t\t Train Loss = 0.5209142565727234   \t\t\t Train Accuracy = 0.5580000281333923 \t\t\t\t\t Validation Accuracy = 0.14399999380111694\n",
            "Epoch = 20 \t\t\t Train Loss = 0.5103312730789185   \t\t\t Train Accuracy = 0.5690000057220459 \t\t\t\t\t Validation Accuracy = 0.1459999978542328\n",
            "Epoch = 21 \t\t\t Train Loss = 0.5003141760826111   \t\t\t Train Accuracy = 0.5789999961853027 \t\t\t\t\t Validation Accuracy = 0.14900000393390656\n",
            "Epoch = 22 \t\t\t Train Loss = 0.49085789918899536   \t\t\t Train Accuracy = 0.5870000123977661 \t\t\t\t\t Validation Accuracy = 0.15000000596046448\n",
            "Epoch = 23 \t\t\t Train Loss = 0.4819659888744354   \t\t\t Train Accuracy = 0.5910000205039978 \t\t\t\t\t Validation Accuracy = 0.15000000596046448\n",
            "Epoch = 24 \t\t\t Train Loss = 0.4736485779285431   \t\t\t Train Accuracy = 0.5929999947547913 \t\t\t\t\t Validation Accuracy = 0.15000000596046448\n",
            "Epoch = 25 \t\t\t Train Loss = 0.465908408164978   \t\t\t Train Accuracy = 0.597000002861023 \t\t\t\t\t Validation Accuracy = 0.15000000596046448\n",
            "Epoch = 26 \t\t\t Train Loss = 0.4587448537349701   \t\t\t Train Accuracy = 0.597000002861023 \t\t\t\t\t Validation Accuracy = 0.15000000596046448\n",
            "Epoch = 27 \t\t\t Train Loss = 0.45214447379112244   \t\t\t Train Accuracy = 0.5979999899864197 \t\t\t\t\t Validation Accuracy = 0.15000000596046448\n",
            "Epoch = 28 \t\t\t Train Loss = 0.4461013674736023   \t\t\t Train Accuracy = 0.5989999771118164 \t\t\t\t\t Validation Accuracy = 0.15000000596046448\n",
            "Epoch = 29 \t\t\t Train Loss = 0.4406173825263977   \t\t\t Train Accuracy = 0.5989999771118164 \t\t\t\t\t Validation Accuracy = 0.15000000596046448\n",
            "Epoch = 30 \t\t\t Train Loss = 0.43566685914993286   \t\t\t Train Accuracy = 0.5989999771118164 \t\t\t\t\t Validation Accuracy = 0.15000000596046448\n",
            "Epoch = 31 \t\t\t Train Loss = 0.4312501549720764   \t\t\t Train Accuracy = 0.6000000238418579 \t\t\t\t\t Validation Accuracy = 0.15000000596046448\n",
            "Epoch = 32 \t\t\t Train Loss = 0.42733851075172424   \t\t\t Train Accuracy = 0.6000000238418579 \t\t\t\t\t Validation Accuracy = 0.15000000596046448\n",
            "Epoch = 33 \t\t\t Train Loss = 0.4238975942134857   \t\t\t Train Accuracy = 0.6000000238418579 \t\t\t\t\t Validation Accuracy = 0.15000000596046448\n",
            "Epoch = 34 \t\t\t Train Loss = 0.42088747024536133   \t\t\t Train Accuracy = 0.5989999771118164 \t\t\t\t\t Validation Accuracy = 0.15000000596046448\n",
            "Epoch = 35 \t\t\t Train Loss = 0.41826435923576355   \t\t\t Train Accuracy = 0.5989999771118164 \t\t\t\t\t Validation Accuracy = 0.14900000393390656\n",
            "Epoch = 36 \t\t\t Train Loss = 0.41598939895629883   \t\t\t Train Accuracy = 0.5960000157356262 \t\t\t\t\t Validation Accuracy = 0.14800000190734863\n",
            "Epoch = 37 \t\t\t Train Loss = 0.41402581334114075   \t\t\t Train Accuracy = 0.5950000286102295 \t\t\t\t\t Validation Accuracy = 0.1469999998807907\n",
            "Epoch = 38 \t\t\t Train Loss = 0.41232311725616455   \t\t\t Train Accuracy = 0.5870000123977661 \t\t\t\t\t Validation Accuracy = 0.14499999582767487\n",
            "Epoch = 39 \t\t\t Train Loss = 0.41083255410194397   \t\t\t Train Accuracy = 0.5849999785423279 \t\t\t\t\t Validation Accuracy = 0.14399999380111694\n",
            "Epoch = 40 \t\t\t Train Loss = 0.40949344635009766   \t\t\t Train Accuracy = 0.5820000171661377 \t\t\t\t\t Validation Accuracy = 0.14300000667572021\n",
            "Epoch = 41 \t\t\t Train Loss = 0.40825387835502625   \t\t\t Train Accuracy = 0.574999988079071 \t\t\t\t\t Validation Accuracy = 0.14000000059604645\n",
            "Epoch = 42 \t\t\t Train Loss = 0.4070567190647125   \t\t\t Train Accuracy = 0.5709999799728394 \t\t\t\t\t Validation Accuracy = 0.14000000059604645\n",
            "Epoch = 43 \t\t\t Train Loss = 0.4058436155319214   \t\t\t Train Accuracy = 0.5659999847412109 \t\t\t\t\t Validation Accuracy = 0.14000000059604645\n",
            "Epoch = 44 \t\t\t Train Loss = 0.404550701379776   \t\t\t Train Accuracy = 0.5640000104904175 \t\t\t\t\t Validation Accuracy = 0.1379999965429306\n",
            "Epoch = 45 \t\t\t Train Loss = 0.40312692523002625   \t\t\t Train Accuracy = 0.5540000200271606 \t\t\t\t\t Validation Accuracy = 0.13500000536441803\n",
            "Epoch = 46 \t\t\t Train Loss = 0.4015236794948578   \t\t\t Train Accuracy = 0.5479999780654907 \t\t\t\t\t Validation Accuracy = 0.1289999932050705\n",
            "Epoch = 47 \t\t\t Train Loss = 0.39969539642333984   \t\t\t Train Accuracy = 0.5440000295639038 \t\t\t\t\t Validation Accuracy = 0.1289999932050705\n",
            "Epoch = 48 \t\t\t Train Loss = 0.3976089358329773   \t\t\t Train Accuracy = 0.5400000214576721 \t\t\t\t\t Validation Accuracy = 0.1289999932050705\n",
            "Epoch = 49 \t\t\t Train Loss = 0.39521893858909607   \t\t\t Train Accuracy = 0.5350000262260437 \t\t\t\t\t Validation Accuracy = 0.12800000607967377\n",
            "Epoch = 50 \t\t\t Train Loss = 0.3924902379512787   \t\t\t Train Accuracy = 0.527999997138977 \t\t\t\t\t Validation Accuracy = 0.12800000607967377\n",
            "Epoch = 51 \t\t\t Train Loss = 0.3893921375274658   \t\t\t Train Accuracy = 0.5239999890327454 \t\t\t\t\t Validation Accuracy = 0.12700000405311584\n",
            "Epoch = 52 \t\t\t Train Loss = 0.3858979642391205   \t\t\t Train Accuracy = 0.5239999890327454 \t\t\t\t\t Validation Accuracy = 0.12700000405311584\n",
            "Epoch = 53 \t\t\t Train Loss = 0.3819893002510071   \t\t\t Train Accuracy = 0.5220000147819519 \t\t\t\t\t Validation Accuracy = 0.12700000405311584\n",
            "Epoch = 54 \t\t\t Train Loss = 0.3776451349258423   \t\t\t Train Accuracy = 0.5210000276565552 \t\t\t\t\t Validation Accuracy = 0.12700000405311584\n",
            "Epoch = 55 \t\t\t Train Loss = 0.3728641867637634   \t\t\t Train Accuracy = 0.5210000276565552 \t\t\t\t\t Validation Accuracy = 0.12700000405311584\n",
            "Epoch = 56 \t\t\t Train Loss = 0.36764103174209595   \t\t\t Train Accuracy = 0.5220000147819519 \t\t\t\t\t Validation Accuracy = 0.12700000405311584\n",
            "Epoch = 57 \t\t\t Train Loss = 0.3619764745235443   \t\t\t Train Accuracy = 0.5230000019073486 \t\t\t\t\t Validation Accuracy = 0.12800000607967377\n",
            "Epoch = 58 \t\t\t Train Loss = 0.35588809847831726   \t\t\t Train Accuracy = 0.5239999890327454 \t\t\t\t\t Validation Accuracy = 0.12800000607967377\n",
            "Epoch = 59 \t\t\t Train Loss = 0.3493887186050415   \t\t\t Train Accuracy = 0.5260000228881836 \t\t\t\t\t Validation Accuracy = 0.1289999932050705\n",
            "Epoch = 60 \t\t\t Train Loss = 0.3424938917160034   \t\t\t Train Accuracy = 0.5339999794960022 \t\t\t\t\t Validation Accuracy = 0.1289999932050705\n",
            "Epoch = 61 \t\t\t Train Loss = 0.3352247178554535   \t\t\t Train Accuracy = 0.5400000214576721 \t\t\t\t\t Validation Accuracy = 0.1289999932050705\n",
            "Epoch = 62 \t\t\t Train Loss = 0.3276083171367645   \t\t\t Train Accuracy = 0.5410000085830688 \t\t\t\t\t Validation Accuracy = 0.12999999523162842\n",
            "Epoch = 63 \t\t\t Train Loss = 0.31967708468437195   \t\t\t Train Accuracy = 0.5440000295639038 \t\t\t\t\t Validation Accuracy = 0.13500000536441803\n",
            "Epoch = 64 \t\t\t Train Loss = 0.311459481716156   \t\t\t Train Accuracy = 0.5479999780654907 \t\t\t\t\t Validation Accuracy = 0.13699999451637268\n",
            "Epoch = 65 \t\t\t Train Loss = 0.3029935956001282   \t\t\t Train Accuracy = 0.5519999861717224 \t\t\t\t\t Validation Accuracy = 0.14000000059604645\n",
            "Epoch = 66 \t\t\t Train Loss = 0.29431402683258057   \t\t\t Train Accuracy = 0.5590000152587891 \t\t\t\t\t Validation Accuracy = 0.14000000059604645\n",
            "Epoch = 67 \t\t\t Train Loss = 0.28546497225761414   \t\t\t Train Accuracy = 0.5640000104904175 \t\t\t\t\t Validation Accuracy = 0.14000000059604645\n",
            "Epoch = 68 \t\t\t Train Loss = 0.2764888107776642   \t\t\t Train Accuracy = 0.5669999718666077 \t\t\t\t\t Validation Accuracy = 0.14000000059604645\n",
            "Epoch = 69 \t\t\t Train Loss = 0.2674282193183899   \t\t\t Train Accuracy = 0.5690000057220459 \t\t\t\t\t Validation Accuracy = 0.1420000046491623\n",
            "Epoch = 70 \t\t\t Train Loss = 0.2583238482475281   \t\t\t Train Accuracy = 0.5730000138282776 \t\t\t\t\t Validation Accuracy = 0.14300000667572021\n",
            "Epoch = 71 \t\t\t Train Loss = 0.2492186278104782   \t\t\t Train Accuracy = 0.574999988079071 \t\t\t\t\t Validation Accuracy = 0.14399999380111694\n",
            "Epoch = 72 \t\t\t Train Loss = 0.24015922844409943   \t\t\t Train Accuracy = 0.5809999704360962 \t\t\t\t\t Validation Accuracy = 0.14399999380111694\n",
            "Epoch = 73 \t\t\t Train Loss = 0.2311869114637375   \t\t\t Train Accuracy = 0.5839999914169312 \t\t\t\t\t Validation Accuracy = 0.14499999582767487\n",
            "Epoch = 74 \t\t\t Train Loss = 0.22234071791172028   \t\t\t Train Accuracy = 0.5849999785423279 \t\t\t\t\t Validation Accuracy = 0.1459999978542328\n",
            "Epoch = 75 \t\t\t Train Loss = 0.21365569531917572   \t\t\t Train Accuracy = 0.5860000252723694 \t\t\t\t\t Validation Accuracy = 0.1469999998807907\n",
            "Epoch = 76 \t\t\t Train Loss = 0.20516790449619293   \t\t\t Train Accuracy = 0.5899999737739563 \t\t\t\t\t Validation Accuracy = 0.14900000393390656\n",
            "Epoch = 77 \t\t\t Train Loss = 0.19690823554992676   \t\t\t Train Accuracy = 0.5950000286102295 \t\t\t\t\t Validation Accuracy = 0.14900000393390656\n",
            "Epoch = 78 \t\t\t Train Loss = 0.18890447914600372   \t\t\t Train Accuracy = 0.5950000286102295 \t\t\t\t\t Validation Accuracy = 0.14900000393390656\n",
            "Epoch = 79 \t\t\t Train Loss = 0.18118152022361755   \t\t\t Train Accuracy = 0.5960000157356262 \t\t\t\t\t Validation Accuracy = 0.14900000393390656\n",
            "Epoch = 80 \t\t\t Train Loss = 0.17376108467578888   \t\t\t Train Accuracy = 0.5989999771118164 \t\t\t\t\t Validation Accuracy = 0.15000000596046448\n",
            "Epoch = 81 \t\t\t Train Loss = 0.16665713489055634   \t\t\t Train Accuracy = 0.5989999771118164 \t\t\t\t\t Validation Accuracy = 0.15000000596046448\n",
            "Epoch = 82 \t\t\t Train Loss = 0.15988649427890778   \t\t\t Train Accuracy = 0.5989999771118164 \t\t\t\t\t Validation Accuracy = 0.15000000596046448\n",
            "Epoch = 83 \t\t\t Train Loss = 0.1534648835659027   \t\t\t Train Accuracy = 0.5989999771118164 \t\t\t\t\t Validation Accuracy = 0.15000000596046448\n",
            "Epoch = 84 \t\t\t Train Loss = 0.14739829301834106   \t\t\t Train Accuracy = 0.5989999771118164 \t\t\t\t\t Validation Accuracy = 0.15000000596046448\n",
            "Epoch = 85 \t\t\t Train Loss = 0.14169196784496307   \t\t\t Train Accuracy = 0.6000000238418579 \t\t\t\t\t Validation Accuracy = 0.15000000596046448\n",
            "Epoch = 86 \t\t\t Train Loss = 0.13634738326072693   \t\t\t Train Accuracy = 0.6000000238418579 \t\t\t\t\t Validation Accuracy = 0.15000000596046448\n",
            "Epoch = 87 \t\t\t Train Loss = 0.13136009871959686   \t\t\t Train Accuracy = 0.6000000238418579 \t\t\t\t\t Validation Accuracy = 0.15000000596046448\n",
            "Epoch = 88 \t\t\t Train Loss = 0.12672576308250427   \t\t\t Train Accuracy = 0.5989999771118164 \t\t\t\t\t Validation Accuracy = 0.15000000596046448\n",
            "Epoch = 89 \t\t\t Train Loss = 0.12243733555078506   \t\t\t Train Accuracy = 0.5989999771118164 \t\t\t\t\t Validation Accuracy = 0.15000000596046448\n",
            "Epoch = 90 \t\t\t Train Loss = 0.1184862032532692   \t\t\t Train Accuracy = 0.5989999771118164 \t\t\t\t\t Validation Accuracy = 0.15000000596046448\n",
            "Epoch = 91 \t\t\t Train Loss = 0.11486456543207169   \t\t\t Train Accuracy = 0.5989999771118164 \t\t\t\t\t Validation Accuracy = 0.15000000596046448\n",
            "Epoch = 92 \t\t\t Train Loss = 0.11155670136213303   \t\t\t Train Accuracy = 0.5989999771118164 \t\t\t\t\t Validation Accuracy = 0.15000000596046448\n",
            "Epoch = 93 \t\t\t Train Loss = 0.10854334384202957   \t\t\t Train Accuracy = 0.5989999771118164 \t\t\t\t\t Validation Accuracy = 0.15000000596046448\n",
            "Epoch = 94 \t\t\t Train Loss = 0.10580898821353912   \t\t\t Train Accuracy = 0.5989999771118164 \t\t\t\t\t Validation Accuracy = 0.15000000596046448\n",
            "Epoch = 95 \t\t\t Train Loss = 0.10334105044603348   \t\t\t Train Accuracy = 0.5989999771118164 \t\t\t\t\t Validation Accuracy = 0.15000000596046448\n",
            "Epoch = 96 \t\t\t Train Loss = 0.10113011300563812   \t\t\t Train Accuracy = 0.5989999771118164 \t\t\t\t\t Validation Accuracy = 0.15000000596046448\n",
            "Epoch = 97 \t\t\t Train Loss = 0.0991608053445816   \t\t\t Train Accuracy = 0.5979999899864197 \t\t\t\t\t Validation Accuracy = 0.15000000596046448\n",
            "Epoch = 98 \t\t\t Train Loss = 0.0974181741476059   \t\t\t Train Accuracy = 0.5979999899864197 \t\t\t\t\t Validation Accuracy = 0.15000000596046448\n",
            "Epoch = 99 \t\t\t Train Loss = 0.0958871990442276   \t\t\t Train Accuracy = 0.5979999899864197 \t\t\t\t\t Validation Accuracy = 0.15000000596046448\n",
            "Epoch = 100 \t\t\t Train Loss = 0.09455160796642303   \t\t\t Train Accuracy = 0.5979999899864197 \t\t\t\t\t Validation Accuracy = 0.15000000596046448\n",
            "Epoch = 100 \t\t\t Train Loss = 0.09455160796642303 \t\t\t Train Accuracy = 0.5979999899864197 \t\t\t\t\t Validation Accuracy = 0.24799999594688416\n"
          ]
        },
        {
          "output_type": "display_data",
          "data": {
            "text/plain": [
              "<Figure size 640x480 with 1 Axes>"
            ],
            "image/png": "[encoded data removed]"
          },
          "metadata": {}
        }
      ],
      "source": [
        "import torch\n",
        "from sklearn.datasets import make_blobs\n",
        "from matplotlib import pyplot\n",
        "from numpy import where\n",
        "\n",
        "num_features = 2\n",
        "num_classes = 3\n",
        "num_samples = 1000\n",
        "\n",
        "#data, label                          #  تعداد کلاس ها | تعداد ویژگی ها\n",
        "x, yt = make_blobs(n_samples=num_samples, n_features=num_features, \n",
        "                   centers=num_classes, cluster_std=0.86, random_state=1)\n",
        "# plot\n",
        "for class_value in range(3):\n",
        "  row_idx = where(yt == class_value)\n",
        "  pyplot.scatter(x[row_idx, 0], x[row_idx, 1])\n",
        "# pyplot.show()\n",
        "\n",
        "\n",
        "# Train / Validation, Test\n",
        "x_train = torch.tensor(x[:int(0.6*num_samples), :]).float()\n",
        "y_train = torch.tensor(yt[:int(0.6*num_samples)]).long()\n",
        "\n",
        "x_vaild = torch.tensor(x[int(0.6*num_samples):int(0.75*num_samples), :]).float()\n",
        "y_vaild = torch.tensor(yt[int(0.6*num_samples):int(0.75*num_samples)]).long()\n",
        "\n",
        "x_test = torch.tensor(x[int(0.75*num_samples):, :]).float()\n",
        "y_test = torch.tensor(yt[int(0.75*num_samples):]).long()\n",
        "\n",
        "\n",
        "\n",
        "# tarin data\n",
        "# x = torch.randn(100, 3)\n",
        "# yt = torch.randn(100, 2) #lable\n",
        "\n",
        "# cretae model :  2 layer and 3 noron\n",
        "# model = torch.nn.Linear(num_features, num_classes)\n",
        "# لایه ها را پشت سر هم گذاشتیم\n",
        "model = torch.nn.Sequential(torch.nn.Linear(num_features, 10),\n",
        "                            torch.nn.ReLU(),\n",
        "                            torch.nn.Linear(10, num_classes))\n",
        "\n",
        "\n",
        "# Loss\n",
        "# loss = torch.nn.MSELoss()\n",
        "loss = torch.nn.CrossEntropyLoss()\n",
        "\n",
        "# Optimization\n",
        "optimizer = torch.optim.SGD(model.parameters(), lr = 0.001)\n",
        "optimizer = torch.optim.Adam(model.parameters(), lr = 0.001)\n",
        "\n",
        "# perdict\n",
        "# train\n",
        "num_epochs = 101\n",
        "# x = torch.FloatTensor(x)\n",
        "# yt = torch.LongTensor(yt)\n",
        "for epoch in range(num_epochs):\n",
        "  optimizer.zero_grad\n",
        "  yp = model(x_train)\n",
        "  loss_value = loss(yp, y_train)\n",
        "  #                        هر سطر ماکسیمم را پیدا کن\n",
        "  num_correct = torch.sum(torch.max(yp, 1)[1] == y_train)\n",
        "                                        #  اندیس اگر صفر بود مقادیر رو بر میگرداند\n",
        "  acc_train = num_correct.float() / float(num_samples)\n",
        "\n",
        "  loss_value.backward()\n",
        "  optimizer.step()\n",
        "\n",
        "\n",
        "  yp = model(x_vaild)\n",
        "  num_correct = torch.sum(torch.max(yp, 1)[1] == y_vaild)\n",
        "  acc_valid = num_correct.float() / float(num_samples)\n",
        "  print(f\"Epoch = {epoch} \\t\\t\\t Train Loss = {loss_value.item()} \\\n",
        "  \\t\\t\\t Train Accuracy = {acc_train.item()} \\t\\t\\t\\t\\t Validation Accuracy = {acc_valid.item()}\")\n",
        "\n",
        "yp = model(x_test)\n",
        "num_correct = torch.sum(torch.max(yp, 1)[1] == y_test)\n",
        "acc_valid = num_correct.float() / float(num_samples)\n",
        "print(f\"Epoch = {epoch} \\t\\t\\t Train Loss = {loss_value.item()} \\\n",
        "\\t\\t\\t Train Accuracy = {acc_train.item()} \\t\\t\\t\\t\\t Validation Accuracy = {acc_valid.item()}\")\n",
        "\n"
      ]
    },
    {
      "cell_type": "code",
      "source": [],
      "metadata": {
        "id": "y3ApXSlGmoBZ"
      },
      "execution_count": null,
      "outputs": []
    },
    {
      "cell_type": "code",
      "source": [],
      "metadata": {
        "id": "TDkwi2lamvIi"
      },
      "execution_count": null,
      "outputs": []
    },
    {
      "cell_type": "code",
      "source": [],
      "metadata": {
        "id": "uiVthbTsmvK2"
      },
      "execution_count": null,
      "outputs": []
    },
    {
      "cell_type": "code",
      "source": [],
      "metadata": {
        "id": "ITmK0IZHmvNq"
      },
      "execution_count": null,
      "outputs": []
    },
    {
      "cell_type": "code",
      "source": [],
      "metadata": {
        "id": "p36nyo_gmvQ-"
      },
      "execution_count": null,
      "outputs": []
    }
  ]
}