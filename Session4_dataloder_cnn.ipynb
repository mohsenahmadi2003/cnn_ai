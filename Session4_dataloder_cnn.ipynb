{
  "nbformat": 4,
  "nbformat_minor": 0,
  "metadata": {
    "colab": {
      "provenance": [],
      "gpuType": "T4",
      "authorship_tag": "ABX9TyNjuS8tpXvrGR4sjWHK1Eo+",
      "include_colab_link": true
    },
    "kernelspec": {
      "name": "python3",
      "display_name": "Python 3"
    },
    "language_info": {
      "name": "python"
    },
    "accelerator": "GPU",
    "gpuClass": "standard"
  },
  "cells": [
    {
      "cell_type": "markdown",
      "metadata": {
        "id": "view-in-github",
        "colab_type": "text"
      },
      "source": [
        "<a href=\"https://colab.research.google.com/github/mohsenahmadi2003/cnn_ai/blob/main/Session4_dataloder_cnn.ipynb\" target=\"_parent\"><img src=\"https://colab.research.google.com/assets/colab-badge.svg\" alt=\"Open In Colab\"/></a>"
      ]
    },
    {
      "cell_type": "markdown",
      "source": [
        "# **`Import`**"
      ],
      "metadata": {
        "id": "PRKJckiTO5g0"
      }
    },
    {
      "cell_type": "code",
      "source": [
        "import torch\n",
        "import torchvision\n",
        "import torch.nn as nn"
      ],
      "metadata": {
        "id": "M9Izdxt6O8QR"
      },
      "execution_count": 1,
      "outputs": []
    },
    {
      "cell_type": "markdown",
      "source": [
        "# **`Initialization`**"
      ],
      "metadata": {
        "id": "k3SwdYTPetQq"
      }
    },
    {
      "cell_type": "code",
      "source": [
        "batch_size = 256\n",
        "\n",
        "num_class = 10\n",
        "\n",
        "device = 'cuda' if torch.cuda.is_available() else 'cpu'"
      ],
      "metadata": {
        "id": "IUiHnbpZey5N"
      },
      "execution_count": 2,
      "outputs": []
    },
    {
      "cell_type": "markdown",
      "source": [
        "# **`Dataset`**"
      ],
      "metadata": {
        "id": "wjHLez7Fe9ob"
      }
    },
    {
      "cell_type": "code",
      "source": [
        "train_dataset = torchvision.datasets.MNIST(\"./mnist_train\", train=True, transform=torchvision.transforms.ToTensor(), download=True)\n",
        "\n",
        "test_dataset = torchvision.datasets.MNIST(\"./mnist_test\", train=False, transform=torchvision.transforms.ToTensor(), download=True)\n"
      ],
      "metadata": {
        "id": "YOJsYKL_fAdj"
      },
      "execution_count": null,
      "outputs": []
    },
    {
      "cell_type": "markdown",
      "source": [
        "# **`Data Loader`**"
      ],
      "metadata": {
        "id": "pQuN17hXjOHQ"
      }
    },
    {
      "cell_type": "code",
      "source": [
        "train_loader = torch.utils.data.DataLoader(dataset=train_dataset, batch_size=batch_size, shuffle=True, drop_last=True)\n",
        "\n",
        "test_loader = torch.utils.data.DataLoader(dataset=test_dataset, batch_size=batch_size, shuffle=True)"
      ],
      "metadata": {
        "id": "eb0siXfUjThd"
      },
      "execution_count": 4,
      "outputs": []
    },
    {
      "cell_type": "code",
      "source": [
        "one_train_batch_imgs, one_train_batch_lbls = next(iter(train_loader))\n",
        "print(one_train_batch_imgs.shape)\n",
        "print(one_train_batch_lbls)"
      ],
      "metadata": {
        "id": "V8Nm8MoVqDBC"
      },
      "execution_count": null,
      "outputs": []
    },
    {
      "cell_type": "code",
      "source": [
        "for index, (images, labels) in enumerate(train_loader):\n",
        "    print(index, images.shape)"
      ],
      "metadata": {
        "id": "5eArx9RK0mxq"
      },
      "execution_count": null,
      "outputs": []
    },
    {
      "cell_type": "markdown",
      "source": [
        "# **`Model`**"
      ],
      "metadata": {
        "id": "OUJRpfDu0-8b"
      }
    },
    {
      "cell_type": "code",
      "source": [
        "torch.nn.Sequential(torch.nn.Conv2d(1, 32, 3),\n",
        "                    torch.nn.ReLU(),\n",
        "                    torch.nn.MaxPool2d(3, 2),\n",
        "                    torch.nn.Conv2d(32, 64, 3),\n",
        "                    torch.nn.ReLU(),\n",
        "                    torch.nn.MaxPool2d(3, 2),\n",
        "                    torch.nn.Linear(64*7*7, 1024),\n",
        "                    torch.nn.Linear(1024, 10))"
      ],
      "metadata": {
        "id": "5WZFGkck1BdF"
      },
      "execution_count": null,
      "outputs": []
    },
    {
      "cell_type": "code",
      "source": [
        "class convnet(nn.Module):\n",
        "    def __init__(self, num_class):\n",
        "        super(convnet, self).__init__()\n",
        "        # Layer 1\n",
        "        self.conv2d_1 = nn.Conv2d(1, 32, (3,3))\n",
        "        self.relu_1 = nn.ReLU()\n",
        "        self.maxpool_1 = nn.MaxPool2d(3, 2)\n",
        "        # Layer 2\n",
        "        self.conv2d_2 = nn.Conv2d(32, 64, (3,3))\n",
        "        self.relu_2 = nn.ReLU()\n",
        "        self.maxpool_2 = nn.MaxPool2d(3, 2)\n",
        "        # Layer 3\n",
        "        self.fc1 = nn.Linear(64*7*7, 1024)\n",
        "        self.fc2 = nn.Linear(1024, num_class)\n",
        "\n",
        "\n",
        "\n",
        "    def forward(self, x):\n",
        "        # Layer 1\n",
        "        y = self.conv2d_1(x)\n",
        "        y = self.relu_1(y)\n",
        "        y = self.maxpool_1(y)\n",
        "\n",
        "        # Layer 2\n",
        "        y = self.conv2d_2(y)\n",
        "        y = self.relu_2(y)\n",
        "        y = self.maxpool_2(y)\n",
        "\n",
        "        # Layer 3\n",
        "        y = y.view(y.size(0), -1) # N_batchsize*3136\n",
        "        y = self.fc1(y)\n",
        "        y = self.fc2(y)\n",
        "\n",
        "        return y"
      ],
      "metadata": {
        "id": "MD03LeL13WhO"
      },
      "execution_count": 8,
      "outputs": []
    },
    {
      "cell_type": "code",
      "source": [
        "model = convnet(num_class).to(device)\n",
        "print(model)"
      ],
      "metadata": {
        "id": "lINbrIsVBZmj"
      },
      "execution_count": null,
      "outputs": []
    },
    {
      "cell_type": "code",
      "source": [
        "model.conv2d_1.weight"
      ],
      "metadata": {
        "id": "bU9Ii0sUFrRk"
      },
      "execution_count": null,
      "outputs": []
    },
    {
      "cell_type": "markdown",
      "source": [
        "# **Config**"
      ],
      "metadata": {
        "id": "OFWLufrIdiKB"
      }
    },
    {
      "cell_type": "code",
      "source": [
        "criterion = nn.CrossEntropyLoss()\n",
        "\n",
        "optimizer = torch.optim.SGD(model.parameters(), lr=0.001, momentum=0.9)"
      ],
      "metadata": {
        "id": "p3RFwV4GdlHc"
      },
      "execution_count": null,
      "outputs": []
    },
    {
      "cell_type": "markdown",
      "source": [
        "# **Trainer**"
      ],
      "metadata": {
        "id": "ItC35pAyeS5P"
      }
    },
    {
      "cell_type": "code",
      "source": [
        "def train_model(model, dataloaders, criterion, optimizer, num_epochs=25, is_inception=False):\n",
        "    since = time.time()\n",
        "\n",
        "    val_acc_history = []\n",
        "\n",
        "    best_model_wts = copy.deepcopy(model.state_dict())\n",
        "    best_acc = 0.0\n",
        "\n",
        "    for epoch in range(num_epochs):\n",
        "        print('Epoch {}/{}'.format(epoch, num_epochs - 1))\n",
        "        print('-' * 10)\n",
        "\n",
        "        # Each epoch has a training and validation phase\n",
        "        for phase in ['train', 'val']:\n",
        "            if phase == 'train':\n",
        "                model.train()  # Set model to training mode\n",
        "            else:\n",
        "                model.eval()   # Set model to evaluate mode\n",
        "\n",
        "            running_loss = 0.0\n",
        "            running_corrects = 0\n",
        "\n",
        "            # Iterate over data.\n",
        "            for inputs, labels in dataloaders[phase]:\n",
        "                inputs = inputs.to(device)\n",
        "                labels = labels.to(device)\n",
        "\n",
        "                # zero the parameter gradients\n",
        "                optimizer.zero_grad()\n",
        "\n",
        "                # forward\n",
        "                # track history if only in train\n",
        "                with torch.set_grad_enabled(phase == 'train'):\n",
        "                    # Get model outputs and calculate loss\n",
        "                    # Special case for inception because in training it has an auxiliary output. In train\n",
        "                    #   mode we calculate the loss by summing the final output and the auxiliary output\n",
        "                    #   but in testing we only consider the final output.\n",
        "                    outputs = model(inputs)\n",
        "                    loss = criterion(outputs, labels)\n",
        "\n",
        "                    _, preds = torch.max(outputs, 1)\n",
        "\n",
        "                    # backward + optimize only if in training phase\n",
        "                    if phase == 'train':\n",
        "                        loss.backward()\n",
        "                        optimizer.step()\n",
        "\n",
        "                # statistics\n",
        "                running_loss += loss.item() * inputs.size(0)\n",
        "                running_corrects += torch.sum(preds == labels.data)\n",
        "\n",
        "            epoch_loss = running_loss / len(dataloaders[phase].dataset)\n",
        "            epoch_acc = running_corrects.double() / len(dataloaders[phase].dataset)\n",
        "\n",
        "            print('{} Loss: {:.4f} Acc: {:.4f}'.format(phase, epoch_loss, epoch_acc))\n",
        "\n",
        "            # deep copy the model\n",
        "            if phase == 'val' and epoch_acc > best_acc:\n",
        "                best_acc = epoch_acc\n",
        "                best_model_wts = copy.deepcopy(model.state_dict())\n",
        "            if phase == 'val':\n",
        "                val_acc_history.append(epoch_acc)\n",
        "\n",
        "        print()\n",
        "\n",
        "    time_elapsed = time.time() - since\n",
        "    print('Training complete in {:.0f}m {:.0f}s'.format(time_elapsed // 60, time_elapsed % 60))\n",
        "    print('Best val Acc: {:4f}'.format(best_acc))\n",
        "\n",
        "    # load best model weights\n",
        "    model.load_state_dict(best_model_wts)\n",
        "    return model, val_acc_history"
      ],
      "metadata": {
        "id": "SMawGgNSeX9t"
      },
      "execution_count": null,
      "outputs": []
    },
    {
      "cell_type": "code",
      "source": [
        "model_ft, hist = train_model(model_ft, dataloaders_dict, criterion, optimizer_ft, num_epochs=num_epochs, is_inception=(model_name==\"inception\"))"
      ],
      "metadata": {
        "id": "dpOzahlOeelG"
      },
      "execution_count": null,
      "outputs": []
    },
    {
      "cell_type": "code",
      "source": [
        "# Plot the training curves of validation accuracy vs. number\n",
        "#  of training epochs for the transfer learning method and\n",
        "#  the model trained from scratch\n",
        "ohist = []\n",
        "shist = []\n",
        "\n",
        "ohist = [h.cpu().numpy() for h in hist]\n",
        "shist = [h.cpu().numpy() for h in scratch_hist]\n",
        "\n",
        "plt.title(\"Validation Accuracy vs. Number of Training Epochs\")\n",
        "plt.xlabel(\"Training Epochs\")\n",
        "plt.ylabel(\"Validation Accuracy\")\n",
        "plt.plot(range(1,num_epochs+1),ohist,label=\"Pretrained\")\n",
        "plt.plot(range(1,num_epochs+1),shist,label=\"Scratch\")\n",
        "plt.ylim((0,1.))\n",
        "plt.xticks(np.arange(1, num_epochs+1, 1.0))\n",
        "plt.legend()\n",
        "plt.show()"
      ],
      "metadata": {
        "id": "ndij7vqVefJh"
      },
      "execution_count": null,
      "outputs": []
    }
  ]
}